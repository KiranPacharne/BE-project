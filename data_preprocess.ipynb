{
 "cells": [
  {
   "cell_type": "code",
   "execution_count": 1,
   "id": "a8af11c5",
   "metadata": {},
   "outputs": [],
   "source": [
    "import os\n",
    "import re\n",
    "from nltk.corpus import stopwords"
   ]
  },
  {
   "cell_type": "code",
   "execution_count": 4,
   "id": "d72bb946",
   "metadata": {},
   "outputs": [
    {
     "name": "stdout",
     "output_type": "stream",
     "text": [
      "Preprocessing complete.\n"
     ]
    }
   ],
   "source": [
    "\n",
    "def preprocess(file_paths, output_dir):\n",
    "    for file_path in file_paths:\n",
    "        with open(file_path, 'r', encoding='utf-8') as f:  # Specify the encoding as UTF-8\n",
    "            data = f.readlines()\n",
    "\n",
    "        data = [re.sub(r'[^\\w\\s@.]', ' ', line) for line in data]\n",
    "        data = [re.sub(r'\\n', '', line) for line in data]\n",
    "        data = [re.sub(r'\\s+', ' ', line) for line in data]\n",
    "        data = [line.lower() for line in data]\n",
    "        data = [word for line in data for word in line.split() if word not in stopwords.words('english')]\n",
    "\n",
    "        # if the length of a word is 1, remove it\n",
    "        data = [word for word in data if len(word) > 1]\n",
    "        # remove space in the text\n",
    "        data = [word.strip() for word in data]\n",
    "\n",
    "        # Construct output file path\n",
    "        output_filename = os.path.basename(file_path)  # Keep the same filename\n",
    "        output_path = os.path.join(output_dir, output_filename)\n",
    "\n",
    "        # Write preprocessed text to the output file\n",
    "        with open(output_path, 'w', encoding='utf-8') as output_file:  # Specify the encoding as UTF-8\n",
    "            output_file.write(\" \".join(data))\n",
    "\n",
    "if __name__ == '__main__':\n",
    "    dataset_dir = r\"C:\\Users\\kiran\\Project\\resumetext\"\n",
    "    output_dir = r\"C:\\Users\\kiran\\Project\\preprocessed\"\n",
    "    os.makedirs(output_dir, exist_ok=True)\n",
    "\n",
    "    file_paths = []\n",
    "\n",
    "    for root, dirs, files in os.walk(dataset_dir):\n",
    "        for file in files:\n",
    "            if file.endswith(\".txt\"):  # Change to the appropriate file extension if needed\n",
    "                file_paths.append(os.path.join(root, file))\n",
    "\n",
    "    preprocess(file_paths, output_dir)\n",
    "    print(\"Preprocessing complete.\")\n"
   ]
  },
  {
   "cell_type": "code",
   "execution_count": null,
   "id": "18da9239",
   "metadata": {},
   "outputs": [],
   "source": []
  }
 ],
 "metadata": {
  "kernelspec": {
   "display_name": "Python 3 (ipykernel)",
   "language": "python",
   "name": "python3"
  },
  "language_info": {
   "codemirror_mode": {
    "name": "ipython",
    "version": 3
   },
   "file_extension": ".py",
   "mimetype": "text/x-python",
   "name": "python",
   "nbconvert_exporter": "python",
   "pygments_lexer": "ipython3",
   "version": "3.11.5"
  }
 },
 "nbformat": 4,
 "nbformat_minor": 5
}
